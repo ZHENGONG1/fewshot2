{
 "cells": [
  {
   "cell_type": "markdown",
   "id": "37f2b69b",
   "metadata": {},
   "source": [
    "# Update for CS680\n",
    "\n",
    "add baseline_soft model\n",
    "add relevant symbols in paser\n",
    "python ./train.py --dataset CUB --model Conv4 --method baseline_soft --train_aug\n"
   ]
  },
  {
   "cell_type": "markdown",
   "id": "38dfe907",
   "metadata": {},
   "source": [
    "# io_utils update"
   ]
  },
  {
   "cell_type": "code",
   "execution_count": null,
   "id": "5e24a7d2",
   "metadata": {},
   "outputs": [],
   "source": [
    "def parse_args(script):\n",
    "    parser.add_argument('--K'           , default=10,           help='num of centers for each class')\n",
    "    parser.add_argument('--la'          , default=20, type=float,  help='lambda of soft triple')\n",
    "    parser.add_argument('--gamma'       , default=0.1, type=float, help='gamma of soft triple')\n",
    "    parser.add_argument('--tau'         , default=0.2, type=float,  help='tau of soft triple')\n",
    "    parser.add_argument('--margin'      , default=0.01, type=float, help='margin of soft triple')\n",
    "    parser.add_argument('--modellr', default=0.0001, type=float, help='model learning rate of soft triple')\n",
    "    parser.add_argument('--centerlr', default=0.01, type=float, help='center learning rate of soft triple')"
   ]
  },
  {
   "cell_type": "markdown",
   "id": "7d7c691d",
   "metadata": {},
   "source": [
    "# Document update\n",
    "\n",
    "## train.py"
   ]
  },
  {
   "cell_type": "code",
   "execution_count": null,
   "id": "0b42cd59",
   "metadata": {},
   "outputs": [],
   "source": [
    "from methods.baselinetrain_softtriple import BaselineTrainSoft\n",
    "\n",
    "if params.method == 'baseline_soft':\n",
    "    optimizer = torch.optim.Adam([{\"params\": model.feature.parameters(), \"lr\": params.modellr},\n",
    "                                      {\"params\": model.fc, \"lr\": params.centerlr}]) #line 28-30\n",
    "\n",
    "elif params.method =='baseline_soft'\n",
    "    model           = BaselineTrainSoft( model_dict[params.model], la = params.la, gamma = params.gamma, \n",
    "                                        tau=params.tau, margin=params.margin, K=params.K, cN=params.num_classes)# line115-116"
   ]
  },
  {
   "cell_type": "markdown",
   "id": "66369143",
   "metadata": {},
   "source": [
    "## save_features.py"
   ]
  },
  {
   "cell_type": "code",
   "execution_count": null,
   "id": "7bfa0801",
   "metadata": {},
   "outputs": [],
   "source": [
    "from methods.baselinetrain_softtriple import BaselineTrainSoft #line 13\n",
    "\n",
    "if not params.method in ['baseline', 'baseline++', 'baseline_soft'] : #line77"
   ]
  },
  {
   "cell_type": "markdown",
   "id": "bf157495",
   "metadata": {},
   "source": [
    "## methods.baselinetrain_softtriple.py\n",
    "The entire file"
   ]
  },
  {
   "cell_type": "markdown",
   "id": "393ebc06",
   "metadata": {},
   "source": [
    "## baselinefinetune.py"
   ]
  },
  {
   "cell_type": "markdown",
   "id": "82ea8a46",
   "metadata": {},
   "source": [
    "add class BaselineFinetune_soft\n",
    "\n",
    "relevant coefficients are hardcoded and can be changed in __init__\n"
   ]
  },
  {
   "cell_type": "markdown",
   "id": "38271e0c",
   "metadata": {},
   "source": [
    "## baselinefinetune.py "
   ]
  },
  {
   "cell_type": "markdown",
   "id": "ef65ea5b",
   "metadata": {},
   "source": [
    "### Test case:\n",
    "\n",
    " 1. if you want to use SoftTriple in fine-tuning, then just change coefficients.\n",
    "\n",
    " 2. if you train baseline_soft, but only want to test the effect of backbones with baseline and baseline++. Then use linear.clf as your layer and change optimizer from Adam to SGD to recover the original experiment (A Closer look at few-shot classification, Chen et al. 2019)\n",
    "\n",
    "\n"
   ]
  },
  {
   "cell_type": "code",
   "execution_count": null,
   "id": "0d4046dc",
   "metadata": {},
   "outputs": [],
   "source": []
  }
 ],
 "metadata": {
  "kernelspec": {
   "display_name": "Python 3 (ipykernel)",
   "language": "python",
   "name": "python3"
  },
  "language_info": {
   "codemirror_mode": {
    "name": "ipython",
    "version": 3
   },
   "file_extension": ".py",
   "mimetype": "text/x-python",
   "name": "python",
   "nbconvert_exporter": "python",
   "pygments_lexer": "ipython3",
   "version": "3.9.7"
  }
 },
 "nbformat": 4,
 "nbformat_minor": 5
}
